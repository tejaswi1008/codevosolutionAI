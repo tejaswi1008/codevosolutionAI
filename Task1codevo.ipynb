{
 "cells": [
  {
   "cell_type": "markdown",
   "id": "61ad9132",
   "metadata": {},
   "source": [
    "# Task-1 Image Classification With Logistic Regression "
   ]
  },
  {
   "cell_type": "markdown",
   "id": "f1ff4728",
   "metadata": {},
   "source": [
    "# Importing Libraries"
   ]
  },
  {
   "cell_type": "code",
   "execution_count": 14,
   "id": "8ed2d1ce",
   "metadata": {},
   "outputs": [],
   "source": [
    "import numpy as np\n",
    "from tensorflow.keras.datasets import mnist\n",
    "from sklearn.linear_model import LogisticRegression\n",
    "from sklearn.metrics import accuracy_score\n",
    "from sklearn.preprocessing import StandardScaler\n",
    "from sklearn.model_selection import train_test_split\n",
    "import joblib\n",
    "import cv2"
   ]
  },
  {
   "cell_type": "markdown",
   "id": "e068612b",
   "metadata": {},
   "source": [
    "# Normalizing Pixel Values"
   ]
  },
  {
   "cell_type": "code",
   "execution_count": 15,
   "id": "8d816852",
   "metadata": {},
   "outputs": [],
   "source": [
    "(X_train, y_train), (X_test, y_test) = mnist.load_data()\n",
    "\n",
    "X_train_flattened = X_train.reshape(X_train.shape[0], -1)\n",
    "X_test_flattened = X_test.reshape(X_test.shape[0], -1)\n",
    "\n",
    "X_train_flattened = X_train_flattened / 255.0\n",
    "X_test_flattened = X_test_flattened / 255.0"
   ]
  },
  {
   "cell_type": "code",
   "execution_count": 16,
   "id": "0c44a87a",
   "metadata": {},
   "outputs": [],
   "source": [
    "X_train_flat, X_val_flat, y_train_flat, y_val_flat = train_test_split(X_train_flattened, y_train, test_size=0.2, random_state=42)"
   ]
  },
  {
   "cell_type": "code",
   "execution_count": null,
   "id": "feeabd77",
   "metadata": {},
   "outputs": [],
   "source": []
  },
  {
   "cell_type": "code",
   "execution_count": 17,
   "id": "42dd764f",
   "metadata": {},
   "outputs": [
    {
     "data": {
      "text/plain": [
       "LogisticRegression(max_iter=1000, multi_class='multinomial')"
      ]
     },
     "execution_count": 17,
     "metadata": {},
     "output_type": "execute_result"
    }
   ],
   "source": [
    "scaler = StandardScaler()\n",
    "X_train_flat = scaler.fit_transform(X_train_flat)\n",
    "X_val_flat = scaler.transform(X_val_flat)\n",
    "X_test_flattened = scaler.transform(X_test_flattened)\n",
    "\n",
    "logistic_regression_model = LogisticRegression(max_iter=1000, multi_class='multinomial', solver='lbfgs')\n",
    "logistic_regression_model.fit(X_train_flat, y_train_flat)"
   ]
  },
  {
   "cell_type": "markdown",
   "id": "d7166608",
   "metadata": {},
   "source": [
    "# Evaluation Of The Model"
   ]
  },
  {
   "cell_type": "code",
   "execution_count": 18,
   "id": "a1202d3d",
   "metadata": {},
   "outputs": [
    {
     "name": "stdout",
     "output_type": "stream",
     "text": [
      "Validation Accuracy: 0.9150\n",
      "Test Accuracy: 0.9179\n"
     ]
    }
   ],
   "source": [
    "y_val_pred = logistic_regression_model.predict(X_val_flat)\n",
    "y_test_pred = logistic_regression_model.predict(X_test_flattened)\n",
    "\n",
    "val_accuracy = accuracy_score(y_val_flat, y_val_pred)\n",
    "test_accuracy = accuracy_score(y_test, y_test_pred)\n",
    "\n",
    "print(f\"Validation Accuracy: {val_accuracy:.4f}\")\n",
    "print(f\"Test Accuracy: {test_accuracy:.4f}\")"
   ]
  },
  {
   "cell_type": "code",
   "execution_count": 19,
   "id": "8dae9da2",
   "metadata": {},
   "outputs": [
    {
     "data": {
      "text/plain": [
       "['scaler_mnist.pkl']"
      ]
     },
     "execution_count": 19,
     "metadata": {},
     "output_type": "execute_result"
    }
   ],
   "source": [
    "import joblib\n",
    "joblib.dump(logistic_regression_model, 'logistic_regression_mnist_model.pkl')\n",
    "joblib.dump(scaler, 'scaler_mnist.pkl')"
   ]
  },
  {
   "cell_type": "code",
   "execution_count": null,
   "id": "2d60fbf2",
   "metadata": {},
   "outputs": [],
   "source": []
  },
  {
   "cell_type": "code",
   "execution_count": null,
   "id": "2715217e",
   "metadata": {},
   "outputs": [],
   "source": []
  }
 ],
 "metadata": {
  "kernelspec": {
   "display_name": "Python 3 (ipykernel)",
   "language": "python",
   "name": "python3"
  },
  "language_info": {
   "codemirror_mode": {
    "name": "ipython",
    "version": 3
   },
   "file_extension": ".py",
   "mimetype": "text/x-python",
   "name": "python",
   "nbconvert_exporter": "python",
   "pygments_lexer": "ipython3",
   "version": "3.9.13"
  }
 },
 "nbformat": 4,
 "nbformat_minor": 5
}
