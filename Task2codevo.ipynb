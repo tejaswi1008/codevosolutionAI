{
 "cells": [
  {
   "cell_type": "markdown",
   "id": "c22acb60",
   "metadata": {},
   "source": [
    "# Task-2 Text Classification With Naive Bayes"
   ]
  },
  {
   "cell_type": "markdown",
   "id": "177a8e49",
   "metadata": {},
   "source": [
    "# Importing Libraries"
   ]
  },
  {
   "cell_type": "code",
   "execution_count": 1,
   "id": "bea80f75",
   "metadata": {},
   "outputs": [],
   "source": [
    "import pandas as pd\n",
    "from sklearn.model_selection import train_test_split\n",
    "from sklearn.feature_extraction.text import TfidfVectorizer\n",
    "from sklearn.naive_bayes import MultinomialNB\n",
    "from sklearn.metrics import accuracy_score, precision_score, recall_score, classification_report\n",
    "import joblib"
   ]
  },
  {
   "cell_type": "code",
   "execution_count": 2,
   "id": "2cab5a4b",
   "metadata": {},
   "outputs": [],
   "source": [
    "data = pd.read_csv('spam.csv', encoding='latin-1')"
   ]
  },
  {
   "cell_type": "code",
   "execution_count": 3,
   "id": "6ca46de2",
   "metadata": {},
   "outputs": [],
   "source": [
    "data = data[['v1', 'v2']]"
   ]
  },
  {
   "cell_type": "code",
   "execution_count": 4,
   "id": "f11ce0b2",
   "metadata": {},
   "outputs": [],
   "source": [
    "data.columns = ['label', 'message']"
   ]
  },
  {
   "cell_type": "code",
   "execution_count": 5,
   "id": "31a530b8",
   "metadata": {},
   "outputs": [],
   "source": [
    "data['label'] = data['label'].map({'spam': 1, 'ham': 0})"
   ]
  },
  {
   "cell_type": "code",
   "execution_count": 6,
   "id": "a0797cab",
   "metadata": {},
   "outputs": [],
   "source": [
    "X = data['message']\n",
    "y = data['label']"
   ]
  },
  {
   "cell_type": "code",
   "execution_count": 7,
   "id": "64d519b6",
   "metadata": {},
   "outputs": [],
   "source": [
    "X_train, X_test, y_train, y_test = train_test_split(X, y, test_size=0.2, random_state=42)"
   ]
  },
  {
   "cell_type": "code",
   "execution_count": 8,
   "id": "af9da794",
   "metadata": {},
   "outputs": [],
   "source": [
    "vectorizer = TfidfVectorizer(stop_words='english', max_features=3000)  \n",
    "X_train_tfidf = vectorizer.fit_transform(X_train)  \n",
    "X_test_tfidf = vectorizer.transform(X_test) "
   ]
  },
  {
   "cell_type": "code",
   "execution_count": 9,
   "id": "4c4b6854",
   "metadata": {},
   "outputs": [
    {
     "data": {
      "text/plain": [
       "MultinomialNB()"
      ]
     },
     "execution_count": 9,
     "metadata": {},
     "output_type": "execute_result"
    }
   ],
   "source": [
    "nb_model = MultinomialNB()\n",
    "nb_model.fit(X_train_tfidf, y_train)"
   ]
  },
  {
   "cell_type": "code",
   "execution_count": 10,
   "id": "5f57a3f2",
   "metadata": {},
   "outputs": [],
   "source": [
    "y_pred = nb_model.predict(X_test_tfidf)"
   ]
  },
  {
   "cell_type": "markdown",
   "id": "d618bb41",
   "metadata": {},
   "source": [
    "# Evaluating The Model"
   ]
  },
  {
   "cell_type": "code",
   "execution_count": 11,
   "id": "7fad2147",
   "metadata": {},
   "outputs": [
    {
     "name": "stdout",
     "output_type": "stream",
     "text": [
      "Accuracy: 0.9776\n",
      "Precision: 1.0000\n",
      "Recall: 0.8333\n",
      "\n",
      "Classification Report:\n",
      "               precision    recall  f1-score   support\n",
      "\n",
      "           0       0.97      1.00      0.99       965\n",
      "           1       1.00      0.83      0.91       150\n",
      "\n",
      "    accuracy                           0.98      1115\n",
      "   macro avg       0.99      0.92      0.95      1115\n",
      "weighted avg       0.98      0.98      0.98      1115\n",
      "\n"
     ]
    }
   ],
   "source": [
    "accuracy = accuracy_score(y_test, y_pred)\n",
    "precision = precision_score(y_test, y_pred)\n",
    "recall = recall_score(y_test, y_pred)\n",
    "classification_rep = classification_report(y_test, y_pred)\n",
    "\n",
    "print(f\"Accuracy: {accuracy:.4f}\")\n",
    "print(f\"Precision: {precision:.4f}\")\n",
    "print(f\"Recall: {recall:.4f}\")\n",
    "print(\"\\nClassification Report:\\n\", classification_rep)"
   ]
  },
  {
   "cell_type": "code",
   "execution_count": 12,
   "id": "ab7c3843",
   "metadata": {},
   "outputs": [
    {
     "data": {
      "text/plain": [
       "['tfidf_vectorizer_spam.pkl']"
      ]
     },
     "execution_count": 12,
     "metadata": {},
     "output_type": "execute_result"
    }
   ],
   "source": [
    "joblib.dump(nb_model, 'naive_bayes_spam_model.pkl')\n",
    "joblib.dump(vectorizer, 'tfidf_vectorizer_spam.pkl')"
   ]
  },
  {
   "cell_type": "markdown",
   "id": "b55b03c9",
   "metadata": {},
   "source": [
    "# Prediction"
   ]
  },
  {
   "cell_type": "code",
   "execution_count": 13,
   "id": "98e196a8",
   "metadata": {},
   "outputs": [],
   "source": [
    "def predict_spam(new_message):\n",
    "    \n",
    "    nb_model = joblib.load('naive_bayes_spam_model.pkl')\n",
    "    vectorizer = joblib.load('tfidf_vectorizer_spam.pkl')\n",
    "    \n",
    "    new_message_tfidf = vectorizer.transform([new_message])\n",
    "    \n",
    "    prediction = nb_model.predict(new_message_tfidf)\n",
    "    \n",
    "    if prediction[0] == 1:\n",
    "        print(f\"The message: '{new_message}' is **SPAM**\")\n",
    "    else:\n",
    "        print(f\"The message: '{new_message}' is **NOT SPAM**\")"
   ]
  },
  {
   "cell_type": "code",
   "execution_count": 15,
   "id": "99baadd9",
   "metadata": {},
   "outputs": [
    {
     "name": "stdout",
     "output_type": "stream",
     "text": [
      "Enter a new message to classify as Spam or Not Spam (or type 'exit' to stop):You are the lucky winner of a vacation package to the Bahamas. Click here to redeem.\n",
      "The message: 'You are the lucky winner of a vacation package to the Bahamas. Click here to redeem.' is **SPAM**\n",
      "Enter a new message to classify as Spam or Not Spam (or type 'exit' to stop):Congratulations! You've won a $1000 Walmart gift card. Click here to claim your prize.\n",
      "The message: 'Congratulations! You've won a $1000 Walmart gift card. Click here to claim your prize.' is **SPAM**\n",
      "Enter a new message to classify as Spam or Not Spam (or type 'exit' to stop):Happy Birthday! Hope you have a fantastic day!\n",
      "The message: 'Happy Birthday! Hope you have a fantastic day!' is **NOT SPAM**\n",
      "Enter a new message to classify as Spam or Not Spam (or type 'exit' to stop):Your order has been shipped and will arrive on Friday.\n",
      "The message: 'Your order has been shipped and will arrive on Friday.' is **NOT SPAM**\n",
      "Enter a new message to classify as Spam or Not Spam (or type 'exit' to stop):exit\n"
     ]
    }
   ],
   "source": [
    "while True:\n",
    "    new_input = input(\"Enter a new message to classify as Spam or Not Spam (or type 'exit' to stop):\")\n",
    "    if new_input.lower() == 'exit':\n",
    "        break\n",
    "    predict_spam(new_input)"
   ]
  },
  {
   "cell_type": "code",
   "execution_count": null,
   "id": "016b4da4",
   "metadata": {},
   "outputs": [],
   "source": []
  }
 ],
 "metadata": {
  "kernelspec": {
   "display_name": "Python 3 (ipykernel)",
   "language": "python",
   "name": "python3"
  },
  "language_info": {
   "codemirror_mode": {
    "name": "ipython",
    "version": 3
   },
   "file_extension": ".py",
   "mimetype": "text/x-python",
   "name": "python",
   "nbconvert_exporter": "python",
   "pygments_lexer": "ipython3",
   "version": "3.9.13"
  }
 },
 "nbformat": 4,
 "nbformat_minor": 5
}
